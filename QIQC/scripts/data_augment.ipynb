{
 "cells": [
  {
   "cell_type": "code",
   "execution_count": 25,
   "metadata": {},
   "outputs": [],
   "source": [
    "from joblib import Parallel, delayed\n",
    "from googletrans import Translator\n",
    "from textblob import TextBlob\n",
    "from tqdm import tqdm\n",
    "import warnings\n",
    "%warnings \n",
    "import pandas as pd\n",
    "import numpy as np\n",
    "import random\n",
    "import argparse\n",
    "import os"
   ]
  },
  {
   "cell_type": "code",
   "execution_count": null,
   "metadata": {},
   "outputs": [],
   "source": [
    "def GetPosIndex():\n",
    "    sample_sub = pd.read_csv('../input/sample_submission.csv')\n",
    "    test = pd.read_csv('../input/test.csv')\n",
    "    print(sub[sub['prediction'] == 1].index.tolist())"
   ]
  },
  {
   "cell_type": "code",
   "execution_count": null,
   "metadata": {},
   "outputs": [],
   "source": [
    "NAN_WORD = \"_NAN_\"\n",
    "\n",
    "def translate(comment, language):\n",
    "    if hasattr(comment, \"decode\"):\n",
    "        comment = comment.decode(\"utf-8\")\n",
    "\n",
    "    translator = Translator()\n",
    "    try:\n",
    "        text = translator.translate(comment, dest=language).text\n",
    "        text = translator.translate(text).text\n",
    "    except:\n",
    "        pass\n",
    "\n",
    "    return str(text)\n",
    "\n",
    "\n",
    "languages = ['zh-cn',\"de\",\"fr\"]\n",
    "result_path = 'extended_data'\n",
    "\n",
    "comments_list = train_data['question_text'].fillna(NAN_WORD).tolist()\n",
    "parallel = Parallel(thread_count, backend=\"threading\", verbose=5)\n",
    "\n",
    "for language in languages:\n",
    "    print('Translate comments using \"{0}\" language'.format(language))\n",
    "    translated_data = parallel(delayed(translate)(comment, language) for comment in comments_list)\n",
    "    train_data[\"comment_text\"] = translated_data\n",
    "\n",
    "    result_path = result_path + \"train_\" + language + \".csv\"\n",
    "    train_data.to_csv(result_path, index=False)\n",
    "    \n",
    "\n",
    "thread_count = 50\n",
    "comments_list = test['question_text'].tolist()\n",
    "translated_data = []\n",
    "language = 'zh-cn'\n",
    "text = TextBlob(comment)\n",
    "for comment in tqdm(comments_list):\n",
    "\n",
    "#     try:\n",
    "    text = text.translate(to=language)\n",
    "    text = text.translate(to=\"en\")\n",
    "#     except:\n",
    "#         print()\n",
    "    translated_data.append(text)"
   ]
  },
  {
   "cell_type": "code",
   "execution_count": 12,
   "metadata": {},
   "outputs": [],
   "source": [
    "test = pd.read_csv(\"../input/test.csv\")\n",
    "train = pd.read_csv(\"../input/train.csv\")"
   ]
  },
  {
   "cell_type": "code",
   "execution_count": 51,
   "metadata": {},
   "outputs": [
    {
     "data": {
      "text/plain": [
       "['Can a bleeding heart liberal be happily married to a militant Republican',\n",
       " ' when they fundamentally disagree on everything',\n",
       " \" I'm an optimistic feminist who believes in hope\",\n",
       " \" and he's a die hard gun enthusiast who borders on misogyny and racism\",\n",
       " '']"
      ]
     },
     "execution_count": 51,
     "metadata": {},
     "output_type": "execute_result"
    }
   ],
   "source": [
    "string1 = \"Can a bleeding heart liberal be happily married to a militant Republican, when they fundamentally disagree on everything? I'm an optimistic feminist who believes in hope, and he's a die hard gun enthusiast who borders on misogyny and racism.\"\n",
    "re.split('[,.?]',string1)"
   ]
  },
  {
   "cell_type": "code",
   "execution_count": 52,
   "metadata": {},
   "outputs": [
    {
     "name": "stderr",
     "output_type": "stream",
     "text": [
      "/home/linxid/anaconda3/envs/python3.6/lib/python3.6/site-packages/ipykernel_launcher.py:7: SettingWithCopyWarning: \n",
      "A value is trying to be set on a copy of a slice from a DataFrame.\n",
      "Try using .loc[row_indexer,col_indexer] = value instead\n",
      "\n",
      "See the caveats in the documentation: http://pandas.pydata.org/pandas-docs/stable/indexing.html#indexing-view-versus-copy\n",
      "  import sys\n"
     ]
    }
   ],
   "source": [
    "def shuffle(sentence):\n",
    "    sentence = re.split('[,.?]',sentence)\n",
    "    sentence = [x.strip() for x in sentence]\n",
    "    random.shuffle(sentence)\n",
    "    return ' '.join(sentence)\n",
    "\n",
    "def num_sen(sentence):\n",
    "    sentence = re.split('[,.?]',sentence)\n",
    "    sentence = [x.strip() for x in sentence]\n",
    "    return len(sentence)\n",
    "\n",
    "train_neg = train[train['target'] == 1]\n",
    "train_neg['num_sen'] = train_neg['question_text'].apply(num_sen)\n",
    "train_neg = train_neg[train_neg['num_sen'] > 1]\n",
    "train_neg['question_text'] = train_neg['question_text'].apply(shuffle)"
   ]
  },
  {
   "cell_type": "code",
   "execution_count": 64,
   "metadata": {},
   "outputs": [
    {
     "name": "stdout",
     "output_type": "stream",
     "text": [
      "2019-01-24 10:42:50.327282\n"
     ]
    }
   ],
   "source": [
    "# re.sub(r\"’‘\")\n",
    "# '´', '‘', '’', \"`\"\n",
    "from datetime import datetime\n",
    "begin = datetime.now()\n",
    "print(begin)"
   ]
  },
  {
   "cell_type": "code",
   "execution_count": null,
   "metadata": {},
   "outputs": [],
   "source": []
  }
 ],
 "metadata": {
  "kernelspec": {
   "display_name": "Python 3",
   "language": "python",
   "name": "python3"
  },
  "language_info": {
   "codemirror_mode": {
    "name": "ipython",
    "version": 3
   },
   "file_extension": ".py",
   "mimetype": "text/x-python",
   "name": "python",
   "nbconvert_exporter": "python",
   "pygments_lexer": "ipython3",
   "version": "3.6.7"
  }
 },
 "nbformat": 4,
 "nbformat_minor": 2
}
